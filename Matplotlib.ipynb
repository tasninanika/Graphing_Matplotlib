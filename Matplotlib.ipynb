{
 "cells": [
  {
   "cell_type": "code",
   "execution_count": null,
   "id": "8140e57f-e572-41f9-b507-b1289b59ba9a",
   "metadata": {},
   "outputs": [],
   "source": [
    "import matplotlib.pyplot as plt"
   ]
  },
  {
   "cell_type": "code",
   "execution_count": null,
   "id": "33122f5c-cd0c-4d0c-bbdb-0580e9bb2d50",
   "metadata": {},
   "outputs": [],
   "source": [
    "x = [2, 3, 4]\n",
    "y = [5, 6, 7]"
   ]
  },
  {
   "cell_type": "markdown",
   "id": "d4dc26ad-620c-4c90-8b63-1df12d6ae33a",
   "metadata": {},
   "source": [
    "# Line chart"
   ]
  },
  {
   "cell_type": "code",
   "execution_count": null,
   "id": "56b75cdc-63f4-4f92-a6cb-956b9f6eb873",
   "metadata": {},
   "outputs": [],
   "source": []
  }
 ],
 "metadata": {
  "kernelspec": {
   "display_name": "Python 3 (ipykernel)",
   "language": "python",
   "name": "python3"
  },
  "language_info": {
   "codemirror_mode": {
    "name": "ipython",
    "version": 3
   },
   "file_extension": ".py",
   "mimetype": "text/x-python",
   "name": "python",
   "nbconvert_exporter": "python",
   "pygments_lexer": "ipython3",
   "version": "3.12.7"
  }
 },
 "nbformat": 4,
 "nbformat_minor": 5
}
